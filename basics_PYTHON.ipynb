{
 "cells": [
  {
   "cell_type": "markdown",
   "id": "1ffd6326",
   "metadata": {},
   "source": [
    "\"\"\" Trying some basic programmes in Python\n",
    "    Nidhin\n",
    "    Multiple line commenting...\n",
    "\"\"\""
   ]
  },
  {
   "cell_type": "code",
   "execution_count": 1,
   "id": "0d7cc85b",
   "metadata": {},
   "outputs": [
    {
     "name": "stdout",
     "output_type": "stream",
     "text": [
      "HELLO WORLD\n",
      "Hi Nidhin , How are you?\n"
     ]
    }
   ],
   "source": [
    "#basics\n",
    "print('HELLO WORLD')\n",
    "print(\"Hi Nidhin , How are you?\")"
   ]
  },
  {
   "cell_type": "code",
   "execution_count": 2,
   "id": "031cc2d5",
   "metadata": {},
   "outputs": [
    {
     "name": "stdout",
     "output_type": "stream",
     "text": [
      "False\n",
      "True\n"
     ]
    },
    {
     "data": {
      "text/plain": [
       "[1, 2, 3]"
      ]
     },
     "execution_count": 2,
     "metadata": {},
     "output_type": "execute_result"
    }
   ],
   "source": [
    "a = [1, 2, 3]\n",
    "c = list(a)\n",
    "print(a  is c )\n",
    "print(a == c)\n",
    "a\n"
   ]
  },
  {
   "cell_type": "code",
   "execution_count": 3,
   "id": "04706a61",
   "metadata": {},
   "outputs": [
    {
     "data": {
      "text/plain": [
       "[1, 2, 3]"
      ]
     },
     "execution_count": 3,
     "metadata": {},
     "output_type": "execute_result"
    }
   ],
   "source": [
    "c"
   ]
  },
  {
   "cell_type": "code",
   "execution_count": 4,
   "id": "3004123b",
   "metadata": {},
   "outputs": [
    {
     "name": "stdout",
     "output_type": "stream",
     "text": [
      "18\n"
     ]
    }
   ],
   "source": [
    "title=\"python programming\"\n",
    "x=len(title)\n",
    "print(x)\n",
    "#finding length of a string _it includes the space as well\n"
   ]
  },
  {
   "cell_type": "code",
   "execution_count": 5,
   "id": "919d8a47",
   "metadata": {},
   "outputs": [
    {
     "name": "stdout",
     "output_type": "stream",
     "text": [
      "What is your Name:\n",
      "Kohli\n",
      "\n",
      "Hi, Kohli\n",
      "Welcome to Kerala\n"
     ]
    }
   ],
   "source": [
    "name=input(\"What is your Name:\\n\")\n",
    "print(\"\\nHi,\" ,name)\n",
    "c=(\"Kerala\")\n",
    "print(\"Welcome to\",c)\n"
   ]
  },
  {
   "cell_type": "code",
   "execution_count": 10,
   "id": "97c35175",
   "metadata": {},
   "outputs": [
    {
     "name": "stdout",
     "output_type": "stream",
     "text": [
      "3\n"
     ]
    }
   ],
   "source": [
    "a=2\n",
    "a=3\n",
    "print(a)\n",
    "\n"
   ]
  },
  {
   "cell_type": "code",
   "execution_count": 11,
   "id": "7477d6d8",
   "metadata": {},
   "outputs": [
    {
     "name": "stdout",
     "output_type": "stream",
     "text": [
      "aaa\n",
      "aaa\n"
     ]
    }
   ],
   "source": [
    "\n",
    "print(\"aaa\")\n",
    "print(end=\"\")\n",
    "print(\"aaa\")\n"
   ]
  },
  {
   "cell_type": "code",
   "execution_count": 15,
   "id": "467ae842",
   "metadata": {},
   "outputs": [
    {
     "name": "stdout",
     "output_type": "stream",
     "text": [
      "enter the no of raws:5\n",
      "         \n",
      "      *  \n",
      "    * *  \n",
      "  * * *  \n",
      "* * * *  \n"
     ]
    }
   ],
   "source": [
    "\n",
    "def pyr(n):\n",
    "    k=n-1\n",
    "    for i in range(0,n):\n",
    "        for j in range(0,k):\n",
    "            print(end=\"  \")\n",
    "        k=k-1\n",
    "        for j in range(0,i):\n",
    "            print(\"* \",end=\"\")\n",
    "        print(\" \\r\")  \n",
    "a=int(input(\"enter the no of raws:\")) \n",
    "pyr(a)"
   ]
  },
  {
   "cell_type": "code",
   "execution_count": 19,
   "id": "05ee0601",
   "metadata": {},
   "outputs": [
    {
     "name": "stdout",
     "output_type": "stream",
     "text": [
      "enter the no of raws:5\n",
      "\n",
      "*   \n",
      "*   *   \n",
      "*   *   *   \n",
      "*   *   *   *   \n"
     ]
    }
   ],
   "source": [
    "\n",
    "def pyr(n):\n",
    "    k=n-1\n",
    "    for i in range(0,n):\n",
    "        for j in range(0,k):\n",
    "            print(end=\"\")\n",
    "        k=k-1\n",
    "        for j in range(0,i):\n",
    "            print(\"* \",end=\"  \")\n",
    "        print(\"\\r\")  \n",
    "a=int(input(\"enter the no of raws:\")) \n",
    "pyr(a)"
   ]
  },
  {
   "cell_type": "code",
   "execution_count": 20,
   "id": "5edadeac",
   "metadata": {},
   "outputs": [
    {
     "name": "stdout",
     "output_type": "stream",
     "text": [
      "enter the no of raws:5\n",
      "         \n",
      "      *    \n",
      "    *   *    \n",
      "  *   *   *    \n",
      "*   *   *   *    \n"
     ]
    }
   ],
   "source": [
    "\n",
    "def pyr(n):\n",
    "    k=n-1\n",
    "    for i in range(0,n):\n",
    "        for j in range(0,k):\n",
    "            print(end=\"  \")\n",
    "        k=k-1\n",
    "        for j in range(0,i):\n",
    "            print(\"* \",end=\"  \")\n",
    "        print(\" \\r\")  \n",
    "a=int(input(\"enter the no of raws:\")) \n",
    "pyr(a)"
   ]
  },
  {
   "cell_type": "code",
   "execution_count": 24,
   "id": "e23467c7",
   "metadata": {},
   "outputs": [
    {
     "name": "stdout",
     "output_type": "stream",
     "text": [
      "Enter 10 numbers\n",
      "6\n",
      "5\n",
      "6\n",
      "3\n",
      "2\n",
      "1\n",
      "5\n",
      "6\n",
      "3\n",
      "2\n",
      "Sum of the given numbers: 39\n",
      "Average : 3.9\n"
     ]
    }
   ],
   "source": [
    "a=0\n",
    "sum=0\n",
    "print(\"Enter 10 numbers\")\n",
    "while(a<10):\n",
    "    i=int(input(\"\"))\n",
    "    a=a+1\n",
    "    sum=sum+i\n",
    "    av=sum/10;\n",
    "print(\"Sum of the given numbers:\",sum)\n",
    "print(\"Average :\",av)"
   ]
  },
  {
   "cell_type": "code",
   "execution_count": 26,
   "id": "c162c0dc",
   "metadata": {},
   "outputs": [
    {
     "name": "stdout",
     "output_type": "stream",
     "text": [
      "10\n",
      "20\n",
      "30\n",
      "40\n",
      "50\n",
      "60\n",
      "70\n",
      "80\n",
      "90\n",
      "100\n"
     ]
    }
   ],
   "source": [
    "#finding the multiples of ten\n",
    "for i in range(1,101):\n",
    "    if(i%10==0):\n",
    "        print(i)\n"
   ]
  },
  {
   "cell_type": "code",
   "execution_count": 30,
   "id": "4f81428b",
   "metadata": {},
   "outputs": [
    {
     "name": "stdout",
     "output_type": "stream",
     "text": [
      "88.8\n",
      "88\n"
     ]
    }
   ],
   "source": [
    "b=a=888\n",
    "a=a/10\n",
    "b=b//10\n",
    "print(a)\n",
    "print(b)"
   ]
  },
  {
   "cell_type": "code",
   "execution_count": 34,
   "id": "e9645c8e",
   "metadata": {},
   "outputs": [
    {
     "name": "stdout",
     "output_type": "stream",
     "text": [
      "Enter the num:70\n",
      "Number is a multiple of both 5 and 7\n"
     ]
    }
   ],
   "source": [
    "a=int(input(\"Enter the num:\"))\n",
    "x=a%5\n",
    "y=a%7\n",
    "if((x==0) & (y==0)):\n",
    "    print(\"Number is a multiple of both 5 and 7\")\n",
    "else:    \n",
    "        print(\"invalid\")\n"
   ]
  },
  {
   "cell_type": "code",
   "execution_count": 49,
   "id": "4b7beef2",
   "metadata": {},
   "outputs": [
    {
     "name": "stdout",
     "output_type": "stream",
     "text": [
      "Enter the count:5\n",
      "enter the num:1\n",
      "enter the num:2\n",
      "enter the num:3\n",
      "enter the num:4\n",
      "enter the num:5\n",
      "sum= 15\n",
      "average (3.0,)\n"
     ]
    }
   ],
   "source": [
    "\n",
    "k=int(input(\"Enter the count:\"))\n",
    "i=0\n",
    "x = 0      \n",
    "for  i in range(k):\n",
    "        j=int(input(\"enter the num:\"))\n",
    "        x=x+j\n",
    "print(\"sum=\",x)\n",
    "average=x/k,\n",
    "print(\"average\",average)"
   ]
  },
  {
   "cell_type": "code",
   "execution_count": 52,
   "id": "94f425e0",
   "metadata": {},
   "outputs": [
    {
     "name": "stdout",
     "output_type": "stream",
     "text": [
      "Enter the num:15\n",
      "odd\n"
     ]
    }
   ],
   "source": [
    "#even or not\n",
    "n=int(input(\"Enter the num:\"))\n",
    "x=(n)%2\n",
    "if x == 0:\n",
    "    print(\"Num is even\")\n",
    "else:\n",
    "    print(\"odd\")"
   ]
  },
  {
   "cell_type": "code",
   "execution_count": 58,
   "id": "416da90d",
   "metadata": {},
   "outputs": [
    {
     "name": "stdout",
     "output_type": "stream",
     "text": [
      "radius:5\n",
      "25\n",
      "78.53981634\n",
      "78.53981634\n"
     ]
    }
   ],
   "source": [
    "b=3.1415926536\n",
    "a=int(input(\"radius:\"))\n",
    "c=a*a\n",
    "print(c)\n",
    "ar=a*a*b\n",
    "print(ar)\n",
    "d=c*b\n",
    "print(d)"
   ]
  },
  {
   "cell_type": "code",
   "execution_count": 59,
   "id": "c919db3d",
   "metadata": {},
   "outputs": [
    {
     "name": "stdout",
     "output_type": "stream",
     "text": [
      "Enter your name:nidhin\n",
      "Enter your roll number:31\n",
      "Enter your mark:10\n",
      "\n",
      "Name: nidhin\n",
      "Roll number: 31\n",
      "Mark: 10\n"
     ]
    }
   ],
   "source": [
    "a=input(\"Enter your name:\")\n",
    "b=input(\"Enter your roll number:\")\n",
    "c=input(\"Enter your mark:\")\n",
    "print(\"\\nName:\",a)\n",
    "print(\"Roll number:\",b)\n",
    "print(\"Mark:\",c)"
   ]
  },
  {
   "cell_type": "code",
   "execution_count": 10,
   "id": "e7c78e93",
   "metadata": {},
   "outputs": [
    {
     "name": "stdout",
     "output_type": "stream",
     "text": [
      "Enter 4 numbers:7 5 8 6\n",
      "Highest value is: 8\n",
      "Lowest value is: 5\n"
     ]
    }
   ],
   "source": [
    "a,b,c,d=input(\"Enter 4 numbers:\").split()\n",
    "\n",
    "x= max(a,b,c,d)\n",
    "y=min(a,b,c,d)\n",
    "print(\"Highest value is:\",x)\n",
    "print(\"Lowest value is:\",y)\n"
   ]
  },
  {
   "cell_type": "code",
   "execution_count": 11,
   "id": "4dedba0c",
   "metadata": {},
   "outputs": [
    {
     "name": "stdout",
     "output_type": "stream",
     "text": [
      "starting number:1\n",
      "ending number:5\n",
      "*\n",
      "**\n",
      "***\n",
      "****\n",
      "*****\n"
     ]
    }
   ],
   "source": [
    "a=int(input(\"starting number:\"))\n",
    "b=int(input(\"ending number:\"))\n",
    "x=a\n",
    "y=b\n",
    "while(x<=y):\n",
    "      print(\"*\"*x)\n",
    "      x=x+1"
   ]
  },
  {
   "cell_type": "code",
   "execution_count": 13,
   "id": "a1db6591",
   "metadata": {},
   "outputs": [
    {
     "name": "stdout",
     "output_type": "stream",
     "text": [
      "enter the tuple:54684547 24454\n",
      "new tuple 54684547 24454\n"
     ]
    }
   ],
   "source": [
    "a=input(\"enter the tuple:\")\n",
    "print(\"new tuple\",a)"
   ]
  },
  {
   "cell_type": "code",
   "execution_count": 16,
   "id": "f150b035",
   "metadata": {},
   "outputs": [
    {
     "name": "stdout",
     "output_type": "stream",
     "text": [
      "starting number:1\n",
      "ending number:6\n",
      "*\n",
      "**\n",
      "***\n",
      "****\n",
      "*****\n",
      "******\n",
      "*****\n",
      "****\n",
      "***\n",
      "**\n",
      "*\n"
     ]
    }
   ],
   "source": [
    "a=int(input(\"starting number:\"))\n",
    "b=int(input(\"ending number:\"))\n",
    "x=a\n",
    "y=b\n",
    "while(x<=y):\n",
    "      print(\"*\"*x)\n",
    "      x=x+1\n",
    "b=b-1\n",
    "while(b>=a):\n",
    "    print(\"*\"*b)\n",
    "    b=b-1"
   ]
  },
  {
   "cell_type": "code",
   "execution_count": 20,
   "id": "aa495eaf",
   "metadata": {},
   "outputs": [
    {
     "name": "stdout",
     "output_type": "stream",
     "text": [
      "enter a positive integer:5\n",
      "4\n",
      "64\n",
      "27\n",
      "8\n",
      "1\n",
      "100\n"
     ]
    }
   ],
   "source": [
    "a=int(input(\"enter a positive integer:\"))\n",
    "b=a-1\n",
    "print(b)\n",
    "sum=0\n",
    "s=0\n",
    "while(b>=1):\n",
    "    s=b*b*b\n",
    "    b=b-1\n",
    "    print(s)\n",
    "    sum=(sum)+s\n",
    "print(sum)"
   ]
  },
  {
   "cell_type": "code",
   "execution_count": 23,
   "id": "def7739a",
   "metadata": {},
   "outputs": [
    {
     "name": "stdout",
     "output_type": "stream",
     "text": [
      "enter the base:2\n",
      "enter the exponent:8\n",
      "2\n",
      "4\n",
      "8\n",
      "16\n",
      "32\n",
      "64\n",
      "128\n",
      "256\n",
      "256\n"
     ]
    }
   ],
   "source": [
    "# function not created\n",
    "a=int(input(\"enter the base:\"))\n",
    "c=1\n",
    "b=int(input(\"enter the exponent:\"))\n",
    "while(b>0):\n",
    "    c=c*a\n",
    "    print(c)\n",
    "    b=b-1\n",
    "print(c)"
   ]
  },
  {
   "cell_type": "code",
   "execution_count": 43,
   "id": "982c40fc",
   "metadata": {},
   "outputs": [
    {
     "name": "stdout",
     "output_type": "stream",
     "text": [
      "enter the range:5\n",
      "1 Neither prime or not\n",
      "2 prime number\n",
      "3 prime number\n"
     ]
    }
   ],
   "source": [
    "num=int(input(\"enter the range:\"))\n",
    "for n in range(1,num):\n",
    "    for i in range(2,n):\n",
    "        if(n%i==0):\n",
    "            break\n",
    "       \n",
    "    else:\n",
    "         if(n==1):\n",
    "            print(1,\"Neither prime or not\")\n",
    "         else:\n",
    "             print(n,\"prime number\")"
   ]
  },
  {
   "cell_type": "code",
   "execution_count": 49,
   "id": "ef3f0d01",
   "metadata": {},
   "outputs": [
    {
     "name": "stdout",
     "output_type": "stream",
     "text": [
      "enter the number:10\n",
      "10\n",
      "9\n",
      "8\n",
      "7\n",
      "6\n",
      "5\n",
      "4\n",
      "3\n",
      "2\n",
      "1\n"
     ]
    }
   ],
   "source": [
    "a=int(input(\"enter the number:\"))\n",
    "def print_till_zero(n):\n",
    "    if(n==0):\n",
    "        return\n",
    "    print(n)\n",
    "    n=n-1\n",
    "    print_till_zero(n)\n",
    "print_till_zero(a) "
   ]
  },
  {
   "cell_type": "code",
   "execution_count": 116,
   "id": "1a99af4c",
   "metadata": {},
   "outputs": [
    {
     "name": "stdout",
     "output_type": "stream",
     "text": [
      "enter the number:5\n"
     ]
    },
    {
     "data": {
      "text/plain": [
       "120"
      ]
     },
     "execution_count": 116,
     "metadata": {},
     "output_type": "execute_result"
    }
   ],
   "source": [
    "a=int(input(\"enter the number:\"))\n",
    "\n",
    "def fac(n):\n",
    "    return 1 if (n==1 or n==0) else n * fac(n-1);\n",
    "       \n",
    "fac(a)  \n",
    "\n",
    "#another method\n"
   ]
  },
  {
   "cell_type": "code",
   "execution_count": null,
   "id": "9de1cd10",
   "metadata": {},
   "outputs": [
    {
     "name": "stdout",
     "output_type": "stream",
     "text": [
      "enter the number:5\n"
     ]
    }
   ],
   "source": [
    "a=int(input(\"enter the number:\"))\n",
    "def fct(n):\n",
    "    if n<0:\n",
    "        return 0\n",
    "    elif n==1 or n==0:\n",
    "        return 1\n",
    "    else:\n",
    "       \n",
    "        while(n>1):\n",
    "            x=n*fct(n-1)\n",
    "        return x\n",
    "fct(a)"
   ]
  },
  {
   "cell_type": "code",
   "execution_count": 92,
   "id": "199642f1",
   "metadata": {},
   "outputs": [],
   "source": [
    "emp={'Name':'rahul','Emp_num':'543','join':2019}#creating a library\n",
    "emp['Emp_num']=453 # editing an entry with the help of index\n",
    "emp['last_comp']='kseb' #adding new value in to the library\n",
    "del emp['join'] #deleting a value from the library\n",
    "z=emp.copy()"
   ]
  },
  {
   "cell_type": "code",
   "execution_count": 91,
   "id": "debfe3f1",
   "metadata": {},
   "outputs": [
    {
     "data": {
      "text/plain": [
       "{'Name': 'rahul', 'Emp_num': 453, 'last_comp': 'kseb'}"
      ]
     },
     "execution_count": 91,
     "metadata": {},
     "output_type": "execute_result"
    }
   ],
   "source": [
    "emp"
   ]
  },
  {
   "cell_type": "code",
   "execution_count": 94,
   "id": "222d7b20",
   "metadata": {},
   "outputs": [
    {
     "name": "stdout",
     "output_type": "stream",
     "text": [
      "15\n",
      "total cost for c: 36\n",
      "32\n",
      "16\n",
      "False\n"
     ]
    }
   ],
   "source": [
    "a=10\n",
    "b=9\n",
    "c=4\n",
    "cos_c=9\n",
    "print(a+b-c)\n",
    "print(\"total cost for c:\",c*cos_c)\n",
    "print(2**5) # same as 2^5\n",
    "print(50//3)\n",
    "print((a>b)and(a<c))"
   ]
  },
  {
   "cell_type": "code",
   "execution_count": 97,
   "id": "e1bacfbe",
   "metadata": {},
   "outputs": [
    {
     "name": "stdout",
     "output_type": "stream",
     "text": [
      "0\n",
      "15\n",
      "15\n",
      "-11\n",
      "40\n",
      "2\n"
     ]
    }
   ],
   "source": [
    "a=10\n",
    "b=5\n",
    "print(a&b)\n",
    "print(a|b)\n",
    "print(a^b)\n",
    "print(~a)\n",
    "print(a<<2)\n",
    "print(a>>2)\n"
   ]
  },
  {
   "cell_type": "code",
   "execution_count": 104,
   "id": "bf570eba",
   "metadata": {},
   "outputs": [
    {
     "name": "stdout",
     "output_type": "stream",
     "text": [
      "i = 0, x = 0\n",
      "i = 1, x = 2\n",
      "i = 2, x = 4\n",
      "i = 3, x = 6\n",
      "i = 4, x = 8\n",
      "enter your Name:\n",
      "853\n",
      "hi 853 \n",
      "WELCOME TO PYTHON\n"
     ]
    }
   ],
   "source": [
    "def demo(x):\n",
    "    for i in range(5):\n",
    "        print(\"i = {}, x = {}\".format(i, x))\n",
    "        x = x + 2\n",
    "\n",
    "demo(0)\n",
    "\n",
    "\n",
    "\n",
    "#printing my name\n",
    "x=input(\"enter your Name:\\n\")\n",
    "print(\"hi\",x,\"\\nWELCOME TO PYTHON\")\n"
   ]
  },
  {
   "cell_type": "code",
   "execution_count": 6,
   "id": "72c2460d",
   "metadata": {},
   "outputs": [
    {
     "data": {
      "text/plain": [
       "8"
      ]
     },
     "execution_count": 6,
     "metadata": {},
     "output_type": "execute_result"
    }
   ],
   "source": [
    "1+1\n",
    "5*8\n",
    "1+3*2\n",
    "(1+3)*2"
   ]
  },
  {
   "cell_type": "code",
   "execution_count": 8,
   "id": "af072438",
   "metadata": {},
   "outputs": [
    {
     "data": {
      "text/plain": [
       "True"
      ]
     },
     "execution_count": 8,
     "metadata": {},
     "output_type": "execute_result"
    }
   ],
   "source": [
    "not True\n",
    "not False"
   ]
  },
  {
   "cell_type": "code",
   "execution_count": 12,
   "id": "dfde3409",
   "metadata": {},
   "outputs": [
    {
     "data": {
      "text/plain": [
       "True"
      ]
     },
     "execution_count": 12,
     "metadata": {},
     "output_type": "execute_result"
    }
   ],
   "source": [
    "True & False\n",
    "False or True"
   ]
  },
  {
   "cell_type": "code",
   "execution_count": 19,
   "id": "ff1c9f24",
   "metadata": {},
   "outputs": [
    {
     "data": {
      "text/plain": [
       "True"
      ]
     },
     "execution_count": 19,
     "metadata": {},
     "output_type": "execute_result"
    }
   ],
   "source": [
    "True+True\n",
    "True*8\n",
    "False-5\n",
    "0== True\n",
    "0==False\n",
    "1==True"
   ]
  },
  {
   "cell_type": "code",
   "execution_count": 20,
   "id": "9aa7ddbb",
   "metadata": {},
   "outputs": [
    {
     "data": {
      "text/plain": [
       "True"
      ]
     },
     "execution_count": 20,
     "metadata": {},
     "output_type": "execute_result"
    }
   ],
   "source": [
    "1<2 and 2<8"
   ]
  },
  {
   "cell_type": "code",
   "execution_count": 23,
   "id": "2b767e6a",
   "metadata": {},
   "outputs": [],
   "source": [
    "a=[1,2,5,3,4]\n",
    "b=a"
   ]
  },
  {
   "cell_type": "code",
   "execution_count": 24,
   "id": "83962e2f",
   "metadata": {},
   "outputs": [
    {
     "data": {
      "text/plain": [
       "True"
      ]
     },
     "execution_count": 24,
     "metadata": {},
     "output_type": "execute_result"
    }
   ],
   "source": [
    "b is a"
   ]
  },
  {
   "cell_type": "code",
   "execution_count": 25,
   "id": "fb9d1736",
   "metadata": {},
   "outputs": [
    {
     "data": {
      "text/plain": [
       "True"
      ]
     },
     "execution_count": 25,
     "metadata": {},
     "output_type": "execute_result"
    }
   ],
   "source": [
    "b==a"
   ]
  },
  {
   "cell_type": "code",
   "execution_count": 26,
   "id": "c41cbe6e",
   "metadata": {},
   "outputs": [],
   "source": [
    "b=[1,2,5,3,4]"
   ]
  },
  {
   "cell_type": "code",
   "execution_count": 27,
   "id": "4bc624d3",
   "metadata": {},
   "outputs": [
    {
     "data": {
      "text/plain": [
       "True"
      ]
     },
     "execution_count": 27,
     "metadata": {},
     "output_type": "execute_result"
    }
   ],
   "source": [
    "a==b"
   ]
  },
  {
   "cell_type": "code",
   "execution_count": 28,
   "id": "2211e67b",
   "metadata": {},
   "outputs": [
    {
     "data": {
      "text/plain": [
       "False"
      ]
     },
     "execution_count": 28,
     "metadata": {},
     "output_type": "execute_result"
    }
   ],
   "source": [
    "a is b"
   ]
  },
  {
   "cell_type": "code",
   "execution_count": 38,
   "id": "71e48fc1",
   "metadata": {},
   "outputs": [
    {
     "data": {
      "text/plain": [
       "11"
      ]
     },
     "execution_count": 38,
     "metadata": {},
     "output_type": "execute_result"
    }
   ],
   "source": [
    "\"hello\"+\"world\"\n",
    "\"hello \"\"world\"\n",
    "\"hello world\"[4]\n",
    "len(\"hello world\")"
   ]
  },
  {
   "cell_type": "code",
   "execution_count": 45,
   "id": "d9ae5767",
   "metadata": {},
   "outputs": [
    {
     "name": "stdout",
     "output_type": "stream",
     "text": [
      "enter the name:mijo\n"
     ]
    },
    {
     "data": {
      "text/plain": [
       "'He said his name is mijo.'"
      ]
     },
     "execution_count": 45,
     "metadata": {},
     "output_type": "execute_result"
    }
   ],
   "source": [
    "name=input(\"enter the name:\")# f strings or formatted strings\n",
    "f\"He said his name is {name}.\""
   ]
  },
  {
   "cell_type": "code",
   "execution_count": 46,
   "id": "4be8844c",
   "metadata": {},
   "outputs": [
    {
     "data": {
      "text/plain": [
       "'mijo is 4 characters long.'"
      ]
     },
     "execution_count": 46,
     "metadata": {},
     "output_type": "execute_result"
    }
   ],
   "source": [
    "f\"{name} is {len(name)} characters long.\""
   ]
  },
  {
   "cell_type": "code",
   "execution_count": 50,
   "id": "7436a434",
   "metadata": {},
   "outputs": [
    {
     "name": "stdout",
     "output_type": "stream",
     "text": [
      "hello,world !"
     ]
    }
   ],
   "source": [
    "print(\"hello,world \",end=\"!\")"
   ]
  },
  {
   "cell_type": "code",
   "execution_count": 59,
   "id": "0a638665",
   "metadata": {},
   "outputs": [],
   "source": [
    "a=[]\n",
    "b=[4,5,6]"
   ]
  },
  {
   "cell_type": "code",
   "execution_count": 61,
   "id": "f6234fff",
   "metadata": {},
   "outputs": [
    {
     "data": {
      "text/plain": [
       "[1, 2, 4, 1, 2, 4]"
      ]
     },
     "execution_count": 61,
     "metadata": {},
     "output_type": "execute_result"
    }
   ],
   "source": [
    "a.append(1)\n",
    "a.append(2)\n",
    "a.append(4)\n",
    "a"
   ]
  },
  {
   "cell_type": "code",
   "execution_count": 65,
   "id": "56d7758b",
   "metadata": {},
   "outputs": [
    {
     "data": {
      "text/plain": [
       "[1, 2]"
      ]
     },
     "execution_count": 65,
     "metadata": {},
     "output_type": "execute_result"
    }
   ],
   "source": [
    "a.pop()\n",
    "a\n"
   ]
  },
  {
   "cell_type": "code",
   "execution_count": 69,
   "id": "ab0c3e62",
   "metadata": {},
   "outputs": [
    {
     "ename": "IndexError",
     "evalue": "list index out of range",
     "output_type": "error",
     "traceback": [
      "\u001b[1;31m---------------------------------------------------------------------------\u001b[0m",
      "\u001b[1;31mIndexError\u001b[0m                                Traceback (most recent call last)",
      "\u001b[1;32m<ipython-input-69-081effcdeb10>\u001b[0m in \u001b[0;36m<module>\u001b[1;34m\u001b[0m\n\u001b[0;32m      1\u001b[0m \u001b[0ma\u001b[0m\u001b[1;33m[\u001b[0m\u001b[1;36m1\u001b[0m\u001b[1;33m]\u001b[0m\u001b[1;33m\u001b[0m\u001b[1;33m\u001b[0m\u001b[0m\n\u001b[0;32m      2\u001b[0m \u001b[0ma\u001b[0m\u001b[1;33m[\u001b[0m\u001b[1;33m-\u001b[0m\u001b[1;36m1\u001b[0m\u001b[1;33m]\u001b[0m\u001b[1;33m\u001b[0m\u001b[1;33m\u001b[0m\u001b[0m\n\u001b[1;32m----> 3\u001b[1;33m \u001b[0ma\u001b[0m\u001b[1;33m[\u001b[0m\u001b[1;36m3\u001b[0m\u001b[1;33m]\u001b[0m\u001b[1;33m\u001b[0m\u001b[1;33m\u001b[0m\u001b[0m\n\u001b[0m",
      "\u001b[1;31mIndexError\u001b[0m: list index out of range"
     ]
    }
   ],
   "source": [
    "a[1]\n",
    "a[-1]\n",
    "a[3]"
   ]
  },
  {
   "cell_type": "code",
   "execution_count": 76,
   "id": "671955a3",
   "metadata": {},
   "outputs": [],
   "source": [
    "a[0:2]\n",
    "a.append(6)\n",
    "a.append(7)"
   ]
  },
  {
   "cell_type": "code",
   "execution_count": 77,
   "id": "988e3a2a",
   "metadata": {},
   "outputs": [
    {
     "data": {
      "text/plain": [
       "[7, 6, 6, 2, 1]"
      ]
     },
     "execution_count": 77,
     "metadata": {},
     "output_type": "execute_result"
    }
   ],
   "source": [
    "a[::-1]# print the list in reverse order"
   ]
  },
  {
   "cell_type": "code",
   "execution_count": 78,
   "id": "15e9463e",
   "metadata": {},
   "outputs": [
    {
     "data": {
      "text/plain": [
       "[1, 6, 7]"
      ]
     },
     "execution_count": 78,
     "metadata": {},
     "output_type": "execute_result"
    }
   ],
   "source": [
    "a[::2]# prints every 2nd element"
   ]
  },
  {
   "cell_type": "code",
   "execution_count": 83,
   "id": "42f71e2e",
   "metadata": {},
   "outputs": [],
   "source": [
    "a.insert(3,3)"
   ]
  },
  {
   "cell_type": "code",
   "execution_count": 84,
   "id": "d2b7cd2c",
   "metadata": {},
   "outputs": [
    {
     "data": {
      "text/plain": [
       "[1, 2, 6, 3, 3, 6, 7]"
      ]
     },
     "execution_count": 84,
     "metadata": {},
     "output_type": "execute_result"
    }
   ],
   "source": [
    "a"
   ]
  },
  {
   "cell_type": "code",
   "execution_count": 85,
   "id": "0e9acd78",
   "metadata": {},
   "outputs": [
    {
     "data": {
      "text/plain": [
       "[1, 2, 6, 3, 3, 6, 7, 4, 5, 6]"
      ]
     },
     "execution_count": 85,
     "metadata": {},
     "output_type": "execute_result"
    }
   ],
   "source": [
    "a+b"
   ]
  },
  {
   "cell_type": "code",
   "execution_count": 86,
   "id": "f75e0d7a",
   "metadata": {},
   "outputs": [],
   "source": [
    "b.extend(a)"
   ]
  },
  {
   "cell_type": "code",
   "execution_count": 87,
   "id": "36409487",
   "metadata": {},
   "outputs": [
    {
     "data": {
      "text/plain": [
       "[4, 5, 6, 1, 2, 6, 3, 3, 6, 7]"
      ]
     },
     "execution_count": 87,
     "metadata": {},
     "output_type": "execute_result"
    }
   ],
   "source": [
    "b"
   ]
  },
  {
   "cell_type": "code",
   "execution_count": null,
   "id": "bc701a09",
   "metadata": {},
   "outputs": [],
   "source": []
  }
 ],
 "metadata": {
  "kernelspec": {
   "display_name": "Python 3",
   "language": "python",
   "name": "python3"
  },
  "language_info": {
   "codemirror_mode": {
    "name": "ipython",
    "version": 3
   },
   "file_extension": ".py",
   "mimetype": "text/x-python",
   "name": "python",
   "nbconvert_exporter": "python",
   "pygments_lexer": "ipython3",
   "version": "3.8.8"
  }
 },
 "nbformat": 4,
 "nbformat_minor": 5
}
