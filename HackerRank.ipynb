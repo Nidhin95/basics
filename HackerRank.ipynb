{
 "cells": [
  {
   "cell_type": "code",
   "execution_count": 1,
   "id": "debfcb38",
   "metadata": {},
   "outputs": [],
   "source": [
    "import pandas as pd\n",
    "import numpy as np"
   ]
  },
  {
   "cell_type": "code",
   "execution_count": 41,
   "id": "8cabfd36",
   "metadata": {},
   "outputs": [
    {
     "name": "stdout",
     "output_type": "stream",
     "text": [
      "enter the num:58\n",
      ">20 & Not weird\n"
     ]
    }
   ],
   "source": [
    "#Q1\n",
    "x=int(input(\"enter the num:\"))\n",
    "if(1<x<100):\n",
    "        if(x%2 == 0):\n",
    "            if (2<=x<=5):\n",
    "                print('not weird')\n",
    "            elif(6<=x<=20):\n",
    "                print(\"weird\")\n",
    "            elif(x>20):\n",
    "                print('>20 & Not weird')\n",
    "        elif(x%2 != 0):\n",
    "            print(\"number is odd -weird\")\n",
    "else:\n",
    "    print(\"error\")\n",
    "    "
   ]
  },
  {
   "cell_type": "code",
   "execution_count": 46,
   "id": "5e3f6000",
   "metadata": {},
   "outputs": [
    {
     "name": "stdout",
     "output_type": "stream",
     "text": [
      "Enter 2 numbers\n",
      "2\n",
      "9\n",
      "11\n",
      "-7\n",
      "18\n"
     ]
    }
   ],
   "source": [
    "#Q2\n",
    "print(\"Enter 2 numbers\")\n",
    "x=int(input())\n",
    "y=int(input())\n",
    "print(x+y)\n",
    "print(x-y)\n",
    "print(x*y)"
   ]
  },
  {
   "cell_type": "code",
   "execution_count": 51,
   "id": "07f50931",
   "metadata": {},
   "outputs": [
    {
     "name": "stdout",
     "output_type": "stream",
     "text": [
      "enter  2 numbers:\n",
      "4\n",
      "3\n",
      "1\n",
      "1.3333333333333333\n"
     ]
    }
   ],
   "source": [
    "#Q3\n",
    "print(\"enter  2 numbers:\")\n",
    "x=int(input())\n",
    "y=int(input())\n",
    "print(x//y)\n",
    "print(x/y)"
   ]
  },
  {
   "cell_type": "code",
   "execution_count": 100,
   "id": "76251169",
   "metadata": {},
   "outputs": [
    {
     "name": "stdout",
     "output_type": "stream",
     "text": [
      "enter the number:5\n",
      "0\n",
      "1\n",
      "4\n",
      "9\n"
     ]
    }
   ],
   "source": [
    "#q4\n",
    "x=int(input(\"enter the number:\"))\n",
    "i=0\n",
    "for x in range(1,x):\n",
    "        while(i<x):\n",
    "            print(i*i)\n",
    "            i=i+1\n"
   ]
  },
  {
   "cell_type": "code",
   "execution_count": 107,
   "id": "b9d2b6fb",
   "metadata": {},
   "outputs": [
    {
     "name": "stdout",
     "output_type": "stream",
     "text": [
      "enter the year:3030\n"
     ]
    },
    {
     "data": {
      "text/plain": [
       "False"
      ]
     },
     "execution_count": 107,
     "metadata": {},
     "output_type": "execute_result"
    }
   ],
   "source": [
    "#q5\n",
    "x=int(input(\"enter the year:\"))\n",
    "def is_leap(n):\n",
    "    if(n%400==0):\n",
    "        return True\n",
    "    if(n%100==0):\n",
    "        return False\n",
    "    if(n%4==0):\n",
    "        return True\n",
    "    return False\n",
    "is_leap(x)"
   ]
  },
  {
   "cell_type": "code",
   "execution_count": 16,
   "id": "ef098eed",
   "metadata": {},
   "outputs": [
    {
     "name": "stdout",
     "output_type": "stream",
     "text": [
      "enter the number:40\n",
      "12345678910111213141516171819202122232425262728293031323334353637383940\n"
     ]
    }
   ],
   "source": [
    "#q6\n",
    "x=int(input(\"enter the number:\"))\n",
    "print(*range(1,x+1),sep=\"\")"
   ]
  },
  {
   "cell_type": "code",
   "execution_count": 20,
   "id": "fe25132c",
   "metadata": {},
   "outputs": [
    {
     "name": "stdout",
     "output_type": "stream",
     "text": [
      "56789\n"
     ]
    }
   ],
   "source": [
    "print(*range(5,10),sep=\"\")"
   ]
  },
  {
   "cell_type": "code",
   "execution_count": 15,
   "id": "240eee0f",
   "metadata": {},
   "outputs": [
    {
     "name": "stdout",
     "output_type": "stream",
     "text": [
      "enter the 1st num:0\n",
      "enter the 2nd num:1\n",
      "enter the 3rd num:0\n",
      "enter the n:2\n"
     ]
    },
    {
     "data": {
      "text/plain": [
       "[[0, 0, 0], [0, 1, 0]]"
      ]
     },
     "execution_count": 15,
     "metadata": {},
     "output_type": "execute_result"
    }
   ],
   "source": [
    "#q7\n",
    "A=int(input(\"enter the 1st num:\"))\n",
    "B=int(input(\"enter the 2nd num:\"))\n",
    "C=int(input(\"enter the 3rd num:\"))\n",
    "n=int(input(\"enter the n:\"))\n",
    "x=[[a,b,c]for a in range(A+1) for b in range(B+1) for c in range(C+1) if a+b+c != n ]\n",
    "x"
   ]
  },
  {
   "cell_type": "code",
   "execution_count": 26,
   "id": "750bd205",
   "metadata": {},
   "outputs": [
    {
     "data": {
      "text/plain": [
       "[5, 6, 7, 8, 9]"
      ]
     },
     "execution_count": 26,
     "metadata": {},
     "output_type": "execute_result"
    }
   ],
   "source": [
    "a=[x for x in range(5,10)]\n",
    "a"
   ]
  },
  {
   "cell_type": "code",
   "execution_count": 41,
   "id": "36c8c9a9",
   "metadata": {},
   "outputs": [
    {
     "data": {
      "text/plain": [
       "[[[1, 4], [1, 5], [1, 6], [2, 4], [2, 5], [2, 6], [3, 4], [3, 5], [3, 6]]]"
      ]
     },
     "execution_count": 41,
     "metadata": {},
     "output_type": "execute_result"
    }
   ],
   "source": [
    "result=[]\n",
    "result.append([[x,y]for x in [1,2,3] for y in [4,5,6]])\n",
    "result"
   ]
  },
  {
   "cell_type": "code",
   "execution_count": 44,
   "id": "48f3b0d2",
   "metadata": {},
   "outputs": [
    {
     "data": {
      "text/plain": [
       "[3, 6, 9, 12, 15]"
      ]
     },
     "execution_count": 44,
     "metadata": {},
     "output_type": "execute_result"
    }
   ],
   "source": [
    "y=[x for x in range(1,16) if x%3==0]\n",
    "y"
   ]
  },
  {
   "cell_type": "code",
   "execution_count": 36,
   "id": "31cce77f",
   "metadata": {},
   "outputs": [
    {
     "name": "stdout",
     "output_type": "stream",
     "text": [
      "6\n",
      "2 5 3 6 3 55\n"
     ]
    },
    {
     "data": {
      "text/plain": [
       "6"
      ]
     },
     "execution_count": 36,
     "metadata": {},
     "output_type": "execute_result"
    }
   ],
   "source": [
    "#q8\n",
    "n=int(input())\n",
    "x=input()\n",
    "arr=list(set(map(int,x.split())))\n",
    "arr.sort()\n",
    "arr[-2]\n",
    "    "
   ]
  },
  {
   "cell_type": "code",
   "execution_count": 37,
   "id": "d7da902b",
   "metadata": {},
   "outputs": [
    {
     "name": "stdout",
     "output_type": "stream",
     "text": [
      "5\n",
      "nijin\n",
      "23\n",
      "mignu\n",
      "25\n",
      "mini\n",
      "24.1\n",
      "loki\n",
      "32.36\n",
      "rahk\n",
      "65\n"
     ]
    }
   ],
   "source": [
    "for i in range(int(input())):\n",
    "    name=input()\n",
    "    score=input()\n"
   ]
  },
  {
   "cell_type": "code",
   "execution_count": 60,
   "id": "4b1573fe",
   "metadata": {},
   "outputs": [
    {
     "name": "stdout",
     "output_type": "stream",
     "text": [
      "white\n",
      "\n",
      "blue\n",
      "red\n",
      "green\n",
      "black\n",
      "white\n",
      "yellow\n"
     ]
    }
   ],
   "source": [
    "nested_list=[['blue','red'],['green','black'],['white','yellow']]\n",
    "len(nested_list)\n",
    "y=nested_list[2][0]\n",
    "print(y)\n",
    "print (\"\")\n",
    "for inner in nested_list:\n",
    "         for value in inner:\n",
    "             print (value)"
   ]
  },
  {
   "cell_type": "code",
   "execution_count": 44,
   "id": "6fdff9d0",
   "metadata": {},
   "outputs": [
    {
     "name": "stdout",
     "output_type": "stream",
     "text": [
      "1\n",
      "[8876, 3, 4, 5, 3, 67]\n",
      "[8876, 3, 4, 55, 5, 3, 67]\n",
      "[8876, 4, 55, 5, 3, 67]\n",
      "67\n",
      "2\n",
      "0\n",
      "[3, 4, 5, 55, 8876]\n",
      "[8876, 55, 5, 4, 3]\n"
     ]
    }
   ],
   "source": [
    "a=[]\n",
    "a.append(8876)\n",
    "\n",
    "A=[1,2,3]\n",
    "print (A[0])\n",
    "a.extend([3,4,5,3,67])\n",
    "a\n",
    "print(a)\n",
    "a.insert(3,55)\n",
    "print(a)\n",
    "a.remove(3)#removes 1st occurence\n",
    "print(a)\n",
    "temp=a.pop()\n",
    "print(temp)\n",
    "i=a.index(55)\n",
    "print(i)\n",
    "c=a.count(9)\n",
    "print(c)\n",
    "a.sort()\n",
    "print(a)\n",
    "a.reverse()\n",
    "print(a)"
   ]
  },
  {
   "cell_type": "code",
   "execution_count": 4,
   "id": "cf4abb84",
   "metadata": {},
   "outputs": [
    {
     "name": "stdout",
     "output_type": "stream",
     "text": [
      "5\n",
      "2\n",
      "1\n",
      "7\n",
      "6\n",
      "32\n",
      "-5\n"
     ]
    }
   ],
   "source": [
    "#sample qn\n",
    "testcase=int(input())\n",
    "power=int(input())\n",
    "results=[]\n",
    "def cu_power(n,k):\n",
    "    _r=1\n",
    "    for i in range(k):\n",
    "        _r= _r * n\n",
    "        return _r\n",
    "        \n",
    "for i in range(testcase):\n",
    "    results.append(cu_power(int(input()),power))\n",
    "    \n"
   ]
  },
  {
   "cell_type": "code",
   "execution_count": 19,
   "id": "c6facc7e",
   "metadata": {},
   "outputs": [
    {
     "name": "stdout",
     "output_type": "stream",
     "text": [
      "banana\n",
      "P2 6\n",
      "P2 11\n",
      "P2 15\n",
      "P2 18\n",
      "P2 20\n",
      "P2 21\n",
      "p2 wins 21\n"
     ]
    }
   ],
   "source": [
    "#q9\n",
    "s=input().strip()\n",
    "s_len=len(s)\n",
    "s_len\n",
    "p1,p2=0,0\n",
    "\n",
    "for i in range(s_len):\n",
    "    if s[i] in \"AEIOU\":\n",
    "        p1 += s_len-i\n",
    "        print(\"P1\",p1)\n",
    "    else:\n",
    "        p2 += s_len-i\n",
    "        print(\"P2\",p2)\n",
    "if p1>p2:\n",
    "    print(\"p1 wins\",p1)\n",
    "elif p1<p2:\n",
    "    print(\"p2 wins\",p2)\n",
    "else:\n",
    "        print(\"draw\")"
   ]
  },
  {
   "cell_type": "code",
   "execution_count": 36,
   "id": "766a7aaa",
   "metadata": {},
   "outputs": [
    {
     "name": "stdout",
     "output_type": "stream",
     "text": [
      "Nidhin NAIANJDK;'\n",
      "nIDHIN naianjdk;'\n"
     ]
    }
   ],
   "source": [
    "#q10\n",
    "S=input()\n",
    "print (S.swapcase())"
   ]
  },
  {
   "cell_type": "code",
   "execution_count": 59,
   "id": "2f222ca0",
   "metadata": {},
   "outputs": [
    {
     "name": "stdout",
     "output_type": "stream",
     "text": [
      "nidhin wait here , iwill be back\n",
      "['nidhin', 'wait', 'here', ',', 'iwill', 'be', 'back']\n"
     ]
    },
    {
     "data": {
      "text/plain": [
       "'nidhin-wait-here-,-iwill-be-back'"
      ]
     },
     "execution_count": 59,
     "metadata": {},
     "output_type": "execute_result"
    }
   ],
   "source": [
    "#q10\n",
    "A=input()\n",
    "def split_J(n):\n",
    "        a=n.split()\n",
    "        print(a)\n",
    "        b= \"-\".join(a)\n",
    "        #print(b)\n",
    "        return b\n",
    "split_J(A)\n"
   ]
  },
  {
   "cell_type": "code",
   "execution_count": 54,
   "id": "1b40f0e4",
   "metadata": {},
   "outputs": [
    {
     "name": "stdout",
     "output_type": "stream",
     "text": [
      "i love you sweetie\n",
      "i-love-you-sweetie\n"
     ]
    }
   ],
   "source": [
    "print(\"-\".join(input().split()))"
   ]
  },
  {
   "cell_type": "code",
   "execution_count": 72,
   "id": "23890f7b",
   "metadata": {},
   "outputs": [
    {
     "name": "stdout",
     "output_type": "stream",
     "text": [
      "k\n",
      "abrackdabra\n"
     ]
    },
    {
     "data": {
      "text/plain": [
       "'abrackdabra'"
      ]
     },
     "execution_count": 72,
     "metadata": {},
     "output_type": "execute_result"
    }
   ],
   "source": [
    "#q11\n",
    "s=\"abracadabra\"\n",
    "def change(n):\n",
    "    \n",
    "    l=list(n)\n",
    "    l[5]=input()\n",
    "    s=''.join(l)\n",
    "    print(s)\n",
    "    return s\n",
    "        \n",
    "change(s)"
   ]
  },
  {
   "cell_type": "code",
   "execution_count": 74,
   "id": "49f8a59f",
   "metadata": {},
   "outputs": [
    {
     "name": "stdout",
     "output_type": "stream",
     "text": [
      "a\n",
      "b\n",
      "r\n",
      "a\n",
      "c\n",
      "a\n",
      "d\n",
      "a\n",
      "b\n",
      "r\n",
      "a\n"
     ]
    }
   ],
   "source": [
    "#q12\n",
    "for i in range(0,len(s)):\n",
    "    print(s[i])"
   ]
  },
  {
   "cell_type": "code",
   "execution_count": null,
   "id": "4093faf2",
   "metadata": {},
   "outputs": [],
   "source": []
  }
 ],
 "metadata": {
  "kernelspec": {
   "display_name": "Python 3",
   "language": "python",
   "name": "python3"
  },
  "language_info": {
   "codemirror_mode": {
    "name": "ipython",
    "version": 3
   },
   "file_extension": ".py",
   "mimetype": "text/x-python",
   "name": "python",
   "nbconvert_exporter": "python",
   "pygments_lexer": "ipython3",
   "version": "3.8.8"
  }
 },
 "nbformat": 4,
 "nbformat_minor": 5
}
